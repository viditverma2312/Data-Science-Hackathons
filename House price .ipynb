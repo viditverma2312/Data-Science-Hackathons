{
 "cells": [
  {
   "cell_type": "markdown",
   "id": "df0fd42a",
   "metadata": {},
   "source": [
    "# House Price Prediction"
   ]
  },
  {
   "cell_type": "code",
   "execution_count": 1,
   "id": "be2d30fd",
   "metadata": {},
   "outputs": [],
   "source": [
    "import pandas as pd\n",
    "import warnings\n",
    "warnings.filterwarnings(\"ignore\")"
   ]
  },
  {
   "cell_type": "code",
   "execution_count": 2,
   "id": "a3a1ec13",
   "metadata": {},
   "outputs": [],
   "source": [
    "data = pd.read_excel('DS - Assignment Part 1 data set.xlsx')"
   ]
  },
  {
   "cell_type": "code",
   "execution_count": 3,
   "id": "f1697d31",
   "metadata": {},
   "outputs": [
    {
     "data": {
      "text/html": [
       "<div>\n",
       "<style scoped>\n",
       "    .dataframe tbody tr th:only-of-type {\n",
       "        vertical-align: middle;\n",
       "    }\n",
       "\n",
       "    .dataframe tbody tr th {\n",
       "        vertical-align: top;\n",
       "    }\n",
       "\n",
       "    .dataframe thead th {\n",
       "        text-align: right;\n",
       "    }\n",
       "</style>\n",
       "<table border=\"1\" class=\"dataframe\">\n",
       "  <thead>\n",
       "    <tr style=\"text-align: right;\">\n",
       "      <th></th>\n",
       "      <th>Transaction date</th>\n",
       "      <th>House Age</th>\n",
       "      <th>Distance from nearest Metro station (km)</th>\n",
       "      <th>Number of convenience stores</th>\n",
       "      <th>latitude</th>\n",
       "      <th>longitude</th>\n",
       "      <th>Number of bedrooms</th>\n",
       "      <th>House size (sqft)</th>\n",
       "      <th>House price of unit area</th>\n",
       "    </tr>\n",
       "  </thead>\n",
       "  <tbody>\n",
       "    <tr>\n",
       "      <th>0</th>\n",
       "      <td>2012.916667</td>\n",
       "      <td>32.0</td>\n",
       "      <td>84.87882</td>\n",
       "      <td>10</td>\n",
       "      <td>24.98298</td>\n",
       "      <td>121.54024</td>\n",
       "      <td>1</td>\n",
       "      <td>575</td>\n",
       "      <td>37.9</td>\n",
       "    </tr>\n",
       "    <tr>\n",
       "      <th>1</th>\n",
       "      <td>2012.916667</td>\n",
       "      <td>19.5</td>\n",
       "      <td>306.59470</td>\n",
       "      <td>9</td>\n",
       "      <td>24.98034</td>\n",
       "      <td>121.53951</td>\n",
       "      <td>2</td>\n",
       "      <td>1240</td>\n",
       "      <td>42.2</td>\n",
       "    </tr>\n",
       "    <tr>\n",
       "      <th>2</th>\n",
       "      <td>2013.583333</td>\n",
       "      <td>13.3</td>\n",
       "      <td>561.98450</td>\n",
       "      <td>5</td>\n",
       "      <td>24.98746</td>\n",
       "      <td>121.54391</td>\n",
       "      <td>3</td>\n",
       "      <td>1060</td>\n",
       "      <td>47.3</td>\n",
       "    </tr>\n",
       "    <tr>\n",
       "      <th>3</th>\n",
       "      <td>2013.500000</td>\n",
       "      <td>13.3</td>\n",
       "      <td>561.98450</td>\n",
       "      <td>5</td>\n",
       "      <td>24.98746</td>\n",
       "      <td>121.54391</td>\n",
       "      <td>2</td>\n",
       "      <td>875</td>\n",
       "      <td>54.8</td>\n",
       "    </tr>\n",
       "    <tr>\n",
       "      <th>4</th>\n",
       "      <td>2012.833333</td>\n",
       "      <td>5.0</td>\n",
       "      <td>390.56840</td>\n",
       "      <td>5</td>\n",
       "      <td>24.97937</td>\n",
       "      <td>121.54245</td>\n",
       "      <td>1</td>\n",
       "      <td>491</td>\n",
       "      <td>43.1</td>\n",
       "    </tr>\n",
       "  </tbody>\n",
       "</table>\n",
       "</div>"
      ],
      "text/plain": [
       "   Transaction date  House Age  Distance from nearest Metro station (km)  \\\n",
       "0       2012.916667       32.0                                  84.87882   \n",
       "1       2012.916667       19.5                                 306.59470   \n",
       "2       2013.583333       13.3                                 561.98450   \n",
       "3       2013.500000       13.3                                 561.98450   \n",
       "4       2012.833333        5.0                                 390.56840   \n",
       "\n",
       "   Number of convenience stores  latitude  longitude  Number of bedrooms  \\\n",
       "0                            10  24.98298  121.54024                   1   \n",
       "1                             9  24.98034  121.53951                   2   \n",
       "2                             5  24.98746  121.54391                   3   \n",
       "3                             5  24.98746  121.54391                   2   \n",
       "4                             5  24.97937  121.54245                   1   \n",
       "\n",
       "   House size (sqft)  House price of unit area  \n",
       "0                575                      37.9  \n",
       "1               1240                      42.2  \n",
       "2               1060                      47.3  \n",
       "3                875                      54.8  \n",
       "4                491                      43.1  "
      ]
     },
     "execution_count": 3,
     "metadata": {},
     "output_type": "execute_result"
    }
   ],
   "source": [
    "data.head()"
   ]
  },
  {
   "cell_type": "code",
   "execution_count": 4,
   "id": "a00effe1",
   "metadata": {},
   "outputs": [
    {
     "data": {
      "text/plain": [
       "(414, 9)"
      ]
     },
     "execution_count": 4,
     "metadata": {},
     "output_type": "execute_result"
    }
   ],
   "source": [
    "data.shape"
   ]
  },
  {
   "cell_type": "code",
   "execution_count": 5,
   "id": "41536e40",
   "metadata": {},
   "outputs": [
    {
     "name": "stdout",
     "output_type": "stream",
     "text": [
      "<class 'pandas.core.frame.DataFrame'>\n",
      "RangeIndex: 414 entries, 0 to 413\n",
      "Data columns (total 9 columns):\n",
      " #   Column                                    Non-Null Count  Dtype  \n",
      "---  ------                                    --------------  -----  \n",
      " 0   Transaction date                          414 non-null    float64\n",
      " 1   House Age                                 414 non-null    float64\n",
      " 2   Distance from nearest Metro station (km)  414 non-null    float64\n",
      " 3   Number of convenience stores              414 non-null    int64  \n",
      " 4   latitude                                  414 non-null    float64\n",
      " 5   longitude                                 414 non-null    float64\n",
      " 6   Number of bedrooms                        414 non-null    int64  \n",
      " 7   House size (sqft)                         414 non-null    int64  \n",
      " 8   House price of unit area                  414 non-null    float64\n",
      "dtypes: float64(6), int64(3)\n",
      "memory usage: 29.2 KB\n"
     ]
    }
   ],
   "source": [
    "data.info()"
   ]
  },
  {
   "cell_type": "code",
   "execution_count": 6,
   "id": "0b4eb957",
   "metadata": {},
   "outputs": [
    {
     "data": {
      "text/plain": [
       "Transaction date                            float64\n",
       "House Age                                   float64\n",
       "Distance from nearest Metro station (km)    float64\n",
       "Number of convenience stores                  int64\n",
       "latitude                                    float64\n",
       "longitude                                   float64\n",
       "Number of bedrooms                            int64\n",
       "House size (sqft)                             int64\n",
       "House price of unit area                    float64\n",
       "dtype: object"
      ]
     },
     "execution_count": 6,
     "metadata": {},
     "output_type": "execute_result"
    }
   ],
   "source": [
    "data.dtypes"
   ]
  },
  {
   "cell_type": "code",
   "execution_count": 7,
   "id": "d42835e9",
   "metadata": {},
   "outputs": [
    {
     "data": {
      "text/html": [
       "<div>\n",
       "<style scoped>\n",
       "    .dataframe tbody tr th:only-of-type {\n",
       "        vertical-align: middle;\n",
       "    }\n",
       "\n",
       "    .dataframe tbody tr th {\n",
       "        vertical-align: top;\n",
       "    }\n",
       "\n",
       "    .dataframe thead th {\n",
       "        text-align: right;\n",
       "    }\n",
       "</style>\n",
       "<table border=\"1\" class=\"dataframe\">\n",
       "  <thead>\n",
       "    <tr style=\"text-align: right;\">\n",
       "      <th></th>\n",
       "      <th>Transaction date</th>\n",
       "      <th>House Age</th>\n",
       "      <th>Distance from nearest Metro station (km)</th>\n",
       "      <th>Number of convenience stores</th>\n",
       "      <th>latitude</th>\n",
       "      <th>longitude</th>\n",
       "      <th>Number of bedrooms</th>\n",
       "      <th>House size (sqft)</th>\n",
       "      <th>House price of unit area</th>\n",
       "    </tr>\n",
       "  </thead>\n",
       "  <tbody>\n",
       "    <tr>\n",
       "      <th>count</th>\n",
       "      <td>414.000000</td>\n",
       "      <td>414.000000</td>\n",
       "      <td>414.000000</td>\n",
       "      <td>414.000000</td>\n",
       "      <td>414.000000</td>\n",
       "      <td>414.000000</td>\n",
       "      <td>414.000000</td>\n",
       "      <td>414.000000</td>\n",
       "      <td>414.000000</td>\n",
       "    </tr>\n",
       "    <tr>\n",
       "      <th>mean</th>\n",
       "      <td>2013.148953</td>\n",
       "      <td>17.712560</td>\n",
       "      <td>1083.885689</td>\n",
       "      <td>4.094203</td>\n",
       "      <td>24.969030</td>\n",
       "      <td>121.533361</td>\n",
       "      <td>1.987923</td>\n",
       "      <td>931.475845</td>\n",
       "      <td>37.980193</td>\n",
       "    </tr>\n",
       "    <tr>\n",
       "      <th>std</th>\n",
       "      <td>0.281995</td>\n",
       "      <td>11.392485</td>\n",
       "      <td>1262.109595</td>\n",
       "      <td>2.945562</td>\n",
       "      <td>0.012410</td>\n",
       "      <td>0.015347</td>\n",
       "      <td>0.818875</td>\n",
       "      <td>348.910269</td>\n",
       "      <td>13.606488</td>\n",
       "    </tr>\n",
       "    <tr>\n",
       "      <th>min</th>\n",
       "      <td>2012.666667</td>\n",
       "      <td>0.000000</td>\n",
       "      <td>23.382840</td>\n",
       "      <td>0.000000</td>\n",
       "      <td>24.932070</td>\n",
       "      <td>121.473530</td>\n",
       "      <td>1.000000</td>\n",
       "      <td>402.000000</td>\n",
       "      <td>7.600000</td>\n",
       "    </tr>\n",
       "    <tr>\n",
       "      <th>25%</th>\n",
       "      <td>2012.916667</td>\n",
       "      <td>9.025000</td>\n",
       "      <td>289.324800</td>\n",
       "      <td>1.000000</td>\n",
       "      <td>24.963000</td>\n",
       "      <td>121.528085</td>\n",
       "      <td>1.000000</td>\n",
       "      <td>548.000000</td>\n",
       "      <td>27.700000</td>\n",
       "    </tr>\n",
       "    <tr>\n",
       "      <th>50%</th>\n",
       "      <td>2013.166667</td>\n",
       "      <td>16.100000</td>\n",
       "      <td>492.231300</td>\n",
       "      <td>4.000000</td>\n",
       "      <td>24.971100</td>\n",
       "      <td>121.538630</td>\n",
       "      <td>2.000000</td>\n",
       "      <td>975.000000</td>\n",
       "      <td>38.450000</td>\n",
       "    </tr>\n",
       "    <tr>\n",
       "      <th>75%</th>\n",
       "      <td>2013.416667</td>\n",
       "      <td>28.150000</td>\n",
       "      <td>1454.279000</td>\n",
       "      <td>6.000000</td>\n",
       "      <td>24.977455</td>\n",
       "      <td>121.543305</td>\n",
       "      <td>3.000000</td>\n",
       "      <td>1234.750000</td>\n",
       "      <td>46.600000</td>\n",
       "    </tr>\n",
       "    <tr>\n",
       "      <th>max</th>\n",
       "      <td>2013.583333</td>\n",
       "      <td>43.800000</td>\n",
       "      <td>6488.021000</td>\n",
       "      <td>10.000000</td>\n",
       "      <td>25.014590</td>\n",
       "      <td>121.566270</td>\n",
       "      <td>3.000000</td>\n",
       "      <td>1500.000000</td>\n",
       "      <td>117.500000</td>\n",
       "    </tr>\n",
       "  </tbody>\n",
       "</table>\n",
       "</div>"
      ],
      "text/plain": [
       "       Transaction date   House Age  Distance from nearest Metro station (km)  \\\n",
       "count        414.000000  414.000000                                414.000000   \n",
       "mean        2013.148953   17.712560                               1083.885689   \n",
       "std            0.281995   11.392485                               1262.109595   \n",
       "min         2012.666667    0.000000                                 23.382840   \n",
       "25%         2012.916667    9.025000                                289.324800   \n",
       "50%         2013.166667   16.100000                                492.231300   \n",
       "75%         2013.416667   28.150000                               1454.279000   \n",
       "max         2013.583333   43.800000                               6488.021000   \n",
       "\n",
       "       Number of convenience stores    latitude   longitude  \\\n",
       "count                    414.000000  414.000000  414.000000   \n",
       "mean                       4.094203   24.969030  121.533361   \n",
       "std                        2.945562    0.012410    0.015347   \n",
       "min                        0.000000   24.932070  121.473530   \n",
       "25%                        1.000000   24.963000  121.528085   \n",
       "50%                        4.000000   24.971100  121.538630   \n",
       "75%                        6.000000   24.977455  121.543305   \n",
       "max                       10.000000   25.014590  121.566270   \n",
       "\n",
       "       Number of bedrooms  House size (sqft)  House price of unit area  \n",
       "count          414.000000         414.000000                414.000000  \n",
       "mean             1.987923         931.475845                 37.980193  \n",
       "std              0.818875         348.910269                 13.606488  \n",
       "min              1.000000         402.000000                  7.600000  \n",
       "25%              1.000000         548.000000                 27.700000  \n",
       "50%              2.000000         975.000000                 38.450000  \n",
       "75%              3.000000        1234.750000                 46.600000  \n",
       "max              3.000000        1500.000000                117.500000  "
      ]
     },
     "execution_count": 7,
     "metadata": {},
     "output_type": "execute_result"
    }
   ],
   "source": [
    "data.describe()"
   ]
  },
  {
   "cell_type": "code",
   "execution_count": 8,
   "id": "40656ce3",
   "metadata": {},
   "outputs": [
    {
     "data": {
      "text/plain": [
       "Transaction date                            0\n",
       "House Age                                   0\n",
       "Distance from nearest Metro station (km)    0\n",
       "Number of convenience stores                0\n",
       "latitude                                    0\n",
       "longitude                                   0\n",
       "Number of bedrooms                          0\n",
       "House size (sqft)                           0\n",
       "House price of unit area                    0\n",
       "dtype: int64"
      ]
     },
     "execution_count": 8,
     "metadata": {},
     "output_type": "execute_result"
    }
   ],
   "source": [
    "data.isna().sum()"
   ]
  },
  {
   "cell_type": "code",
   "execution_count": 9,
   "id": "8dd9482a",
   "metadata": {},
   "outputs": [
    {
     "data": {
      "text/html": [
       "<div>\n",
       "<style scoped>\n",
       "    .dataframe tbody tr th:only-of-type {\n",
       "        vertical-align: middle;\n",
       "    }\n",
       "\n",
       "    .dataframe tbody tr th {\n",
       "        vertical-align: top;\n",
       "    }\n",
       "\n",
       "    .dataframe thead th {\n",
       "        text-align: right;\n",
       "    }\n",
       "</style>\n",
       "<table border=\"1\" class=\"dataframe\">\n",
       "  <thead>\n",
       "    <tr style=\"text-align: right;\">\n",
       "      <th></th>\n",
       "      <th>Transaction date</th>\n",
       "      <th>House Age</th>\n",
       "      <th>Distance from nearest Metro station (km)</th>\n",
       "      <th>Number of convenience stores</th>\n",
       "      <th>latitude</th>\n",
       "      <th>longitude</th>\n",
       "      <th>Number of bedrooms</th>\n",
       "      <th>House size (sqft)</th>\n",
       "      <th>House price of unit area</th>\n",
       "    </tr>\n",
       "  </thead>\n",
       "  <tbody>\n",
       "    <tr>\n",
       "      <th>Transaction date</th>\n",
       "      <td>1.000000</td>\n",
       "      <td>0.017542</td>\n",
       "      <td>0.060880</td>\n",
       "      <td>0.009544</td>\n",
       "      <td>0.035016</td>\n",
       "      <td>-0.041065</td>\n",
       "      <td>0.061985</td>\n",
       "      <td>0.068405</td>\n",
       "      <td>0.087529</td>\n",
       "    </tr>\n",
       "    <tr>\n",
       "      <th>House Age</th>\n",
       "      <td>0.017542</td>\n",
       "      <td>1.000000</td>\n",
       "      <td>0.025622</td>\n",
       "      <td>0.049593</td>\n",
       "      <td>0.054420</td>\n",
       "      <td>-0.048520</td>\n",
       "      <td>-0.008756</td>\n",
       "      <td>-0.060361</td>\n",
       "      <td>-0.210567</td>\n",
       "    </tr>\n",
       "    <tr>\n",
       "      <th>Distance from nearest Metro station (km)</th>\n",
       "      <td>0.060880</td>\n",
       "      <td>0.025622</td>\n",
       "      <td>1.000000</td>\n",
       "      <td>-0.602519</td>\n",
       "      <td>-0.591067</td>\n",
       "      <td>-0.806317</td>\n",
       "      <td>-0.046856</td>\n",
       "      <td>0.001795</td>\n",
       "      <td>-0.673613</td>\n",
       "    </tr>\n",
       "    <tr>\n",
       "      <th>Number of convenience stores</th>\n",
       "      <td>0.009544</td>\n",
       "      <td>0.049593</td>\n",
       "      <td>-0.602519</td>\n",
       "      <td>1.000000</td>\n",
       "      <td>0.444143</td>\n",
       "      <td>0.449099</td>\n",
       "      <td>0.043638</td>\n",
       "      <td>0.033286</td>\n",
       "      <td>0.571005</td>\n",
       "    </tr>\n",
       "    <tr>\n",
       "      <th>latitude</th>\n",
       "      <td>0.035016</td>\n",
       "      <td>0.054420</td>\n",
       "      <td>-0.591067</td>\n",
       "      <td>0.444143</td>\n",
       "      <td>1.000000</td>\n",
       "      <td>0.412924</td>\n",
       "      <td>0.043921</td>\n",
       "      <td>0.031696</td>\n",
       "      <td>0.546307</td>\n",
       "    </tr>\n",
       "    <tr>\n",
       "      <th>longitude</th>\n",
       "      <td>-0.041065</td>\n",
       "      <td>-0.048520</td>\n",
       "      <td>-0.806317</td>\n",
       "      <td>0.449099</td>\n",
       "      <td>0.412924</td>\n",
       "      <td>1.000000</td>\n",
       "      <td>0.041680</td>\n",
       "      <td>0.009322</td>\n",
       "      <td>0.523287</td>\n",
       "    </tr>\n",
       "    <tr>\n",
       "      <th>Number of bedrooms</th>\n",
       "      <td>0.061985</td>\n",
       "      <td>-0.008756</td>\n",
       "      <td>-0.046856</td>\n",
       "      <td>0.043638</td>\n",
       "      <td>0.043921</td>\n",
       "      <td>0.041680</td>\n",
       "      <td>1.000000</td>\n",
       "      <td>0.752276</td>\n",
       "      <td>0.050265</td>\n",
       "    </tr>\n",
       "    <tr>\n",
       "      <th>House size (sqft)</th>\n",
       "      <td>0.068405</td>\n",
       "      <td>-0.060361</td>\n",
       "      <td>0.001795</td>\n",
       "      <td>0.033286</td>\n",
       "      <td>0.031696</td>\n",
       "      <td>0.009322</td>\n",
       "      <td>0.752276</td>\n",
       "      <td>1.000000</td>\n",
       "      <td>0.046489</td>\n",
       "    </tr>\n",
       "    <tr>\n",
       "      <th>House price of unit area</th>\n",
       "      <td>0.087529</td>\n",
       "      <td>-0.210567</td>\n",
       "      <td>-0.673613</td>\n",
       "      <td>0.571005</td>\n",
       "      <td>0.546307</td>\n",
       "      <td>0.523287</td>\n",
       "      <td>0.050265</td>\n",
       "      <td>0.046489</td>\n",
       "      <td>1.000000</td>\n",
       "    </tr>\n",
       "  </tbody>\n",
       "</table>\n",
       "</div>"
      ],
      "text/plain": [
       "                                          Transaction date  House Age  \\\n",
       "Transaction date                                  1.000000   0.017542   \n",
       "House Age                                         0.017542   1.000000   \n",
       "Distance from nearest Metro station (km)          0.060880   0.025622   \n",
       "Number of convenience stores                      0.009544   0.049593   \n",
       "latitude                                          0.035016   0.054420   \n",
       "longitude                                        -0.041065  -0.048520   \n",
       "Number of bedrooms                                0.061985  -0.008756   \n",
       "House size (sqft)                                 0.068405  -0.060361   \n",
       "House price of unit area                          0.087529  -0.210567   \n",
       "\n",
       "                                          Distance from nearest Metro station (km)  \\\n",
       "Transaction date                                                          0.060880   \n",
       "House Age                                                                 0.025622   \n",
       "Distance from nearest Metro station (km)                                  1.000000   \n",
       "Number of convenience stores                                             -0.602519   \n",
       "latitude                                                                 -0.591067   \n",
       "longitude                                                                -0.806317   \n",
       "Number of bedrooms                                                       -0.046856   \n",
       "House size (sqft)                                                         0.001795   \n",
       "House price of unit area                                                 -0.673613   \n",
       "\n",
       "                                          Number of convenience stores  \\\n",
       "Transaction date                                              0.009544   \n",
       "House Age                                                     0.049593   \n",
       "Distance from nearest Metro station (km)                     -0.602519   \n",
       "Number of convenience stores                                  1.000000   \n",
       "latitude                                                      0.444143   \n",
       "longitude                                                     0.449099   \n",
       "Number of bedrooms                                            0.043638   \n",
       "House size (sqft)                                             0.033286   \n",
       "House price of unit area                                      0.571005   \n",
       "\n",
       "                                          latitude  longitude  \\\n",
       "Transaction date                          0.035016  -0.041065   \n",
       "House Age                                 0.054420  -0.048520   \n",
       "Distance from nearest Metro station (km) -0.591067  -0.806317   \n",
       "Number of convenience stores              0.444143   0.449099   \n",
       "latitude                                  1.000000   0.412924   \n",
       "longitude                                 0.412924   1.000000   \n",
       "Number of bedrooms                        0.043921   0.041680   \n",
       "House size (sqft)                         0.031696   0.009322   \n",
       "House price of unit area                  0.546307   0.523287   \n",
       "\n",
       "                                          Number of bedrooms  \\\n",
       "Transaction date                                    0.061985   \n",
       "House Age                                          -0.008756   \n",
       "Distance from nearest Metro station (km)           -0.046856   \n",
       "Number of convenience stores                        0.043638   \n",
       "latitude                                            0.043921   \n",
       "longitude                                           0.041680   \n",
       "Number of bedrooms                                  1.000000   \n",
       "House size (sqft)                                   0.752276   \n",
       "House price of unit area                            0.050265   \n",
       "\n",
       "                                          House size (sqft)  \\\n",
       "Transaction date                                   0.068405   \n",
       "House Age                                         -0.060361   \n",
       "Distance from nearest Metro station (km)           0.001795   \n",
       "Number of convenience stores                       0.033286   \n",
       "latitude                                           0.031696   \n",
       "longitude                                          0.009322   \n",
       "Number of bedrooms                                 0.752276   \n",
       "House size (sqft)                                  1.000000   \n",
       "House price of unit area                           0.046489   \n",
       "\n",
       "                                          House price of unit area  \n",
       "Transaction date                                          0.087529  \n",
       "House Age                                                -0.210567  \n",
       "Distance from nearest Metro station (km)                 -0.673613  \n",
       "Number of convenience stores                              0.571005  \n",
       "latitude                                                  0.546307  \n",
       "longitude                                                 0.523287  \n",
       "Number of bedrooms                                        0.050265  \n",
       "House size (sqft)                                         0.046489  \n",
       "House price of unit area                                  1.000000  "
      ]
     },
     "execution_count": 9,
     "metadata": {},
     "output_type": "execute_result"
    }
   ],
   "source": [
    "data.corr()"
   ]
  },
  {
   "cell_type": "code",
   "execution_count": 10,
   "id": "1d1e64a1",
   "metadata": {},
   "outputs": [
    {
     "data": {
      "text/plain": [
       "Index(['Transaction date', 'House Age',\n",
       "       'Distance from nearest Metro station (km)',\n",
       "       'Number of convenience stores', 'latitude', 'longitude',\n",
       "       'Number of bedrooms', 'House size (sqft)', 'House price of unit area'],\n",
       "      dtype='object')"
      ]
     },
     "execution_count": 10,
     "metadata": {},
     "output_type": "execute_result"
    }
   ],
   "source": [
    "data.columns"
   ]
  },
  {
   "cell_type": "code",
   "execution_count": 11,
   "id": "bf6da224",
   "metadata": {},
   "outputs": [],
   "source": [
    "import matplotlib.pyplot as plt"
   ]
  },
  {
   "cell_type": "code",
   "execution_count": 12,
   "id": "d455422e",
   "metadata": {},
   "outputs": [
    {
     "data": {
      "text/plain": [
       "Text(0.5, 1.0, 'Correlation matrix')"
      ]
     },
     "execution_count": 12,
     "metadata": {},
     "output_type": "execute_result"
    },
    {
     "data": {
      "image/png": "[encoded data removed]",
      "text/plain": [
       "<Figure size 288x288 with 2 Axes>"
      ]
     },
     "metadata": {
      "needs_background": "light"
     },
     "output_type": "display_data"
    }
   ],
   "source": [
    "plt.matshow(data.corr())\n",
    "cb = plt.colorbar()\n",
    "cb.ax.tick_params()\n",
    "plt.title('Correlation matrix', pad=5,font='Times new roman', fontsize=20)"
   ]
  },
  {
   "cell_type": "raw",
   "id": "dba87619",
   "metadata": {},
   "source": [
    "Above correlation matrix shows the relation of target variables with the different variables."
   ]
  },
  {
   "cell_type": "code",
   "execution_count": 13,
   "id": "37f50df3",
   "metadata": {},
   "outputs": [
    {
     "data": {
      "text/html": [
       "<style type=\"text/css\">\n",
       "#T_fb327_row0_col0, #T_fb327_row1_col1, #T_fb327_row2_col2, #T_fb327_row3_col3, #T_fb327_row4_col4, #T_fb327_row5_col5, #T_fb327_row6_col6, #T_fb327_row7_col7, #T_fb327_row8_col8 {\n",
       "  background-color: #b40426;\n",
       "  color: #f1f1f1;\n",
       "}\n",
       "#T_fb327_row0_col1 {\n",
       "  background-color: #779af7;\n",
       "  color: #f1f1f1;\n",
       "}\n",
       "#T_fb327_row0_col2 {\n",
       "  background-color: #d7dce3;\n",
       "  color: #000000;\n",
       "}\n",
       "#T_fb327_row0_col3 {\n",
       "  background-color: #bad0f8;\n",
       "  color: #000000;\n",
       "}\n",
       "#T_fb327_row0_col4, #T_fb327_row7_col4 {\n",
       "  background-color: #bed2f6;\n",
       "  color: #000000;\n",
       "}\n",
       "#T_fb327_row0_col5 {\n",
       "  background-color: #c7d7f0;\n",
       "  color: #000000;\n",
       "}\n",
       "#T_fb327_row0_col6, #T_fb327_row7_col0 {\n",
       "  background-color: #5a78e4;\n",
       "  color: #f1f1f1;\n",
       "}\n",
       "#T_fb327_row0_col7, #T_fb327_row7_col1, #T_fb327_row8_col0 {\n",
       "  background-color: #6180e9;\n",
       "  color: #f1f1f1;\n",
       "}\n",
       "#T_fb327_row0_col8 {\n",
       "  background-color: #d1dae9;\n",
       "  color: #000000;\n",
       "}\n",
       "#T_fb327_row1_col0 {\n",
       "  background-color: #4b64d5;\n",
       "  color: #f1f1f1;\n",
       "}\n",
       "#T_fb327_row1_col2 {\n",
       "  background-color: #d2dbe8;\n",
       "  color: #000000;\n",
       "}\n",
       "#T_fb327_row1_col3 {\n",
       "  background-color: #c3d5f4;\n",
       "  color: #000000;\n",
       "}\n",
       "#T_fb327_row1_col4, #T_fb327_row6_col3 {\n",
       "  background-color: #c1d4f4;\n",
       "  color: #000000;\n",
       "}\n",
       "#T_fb327_row1_col5, #T_fb327_row6_col2 {\n",
       "  background-color: #c6d6f1;\n",
       "  color: #000000;\n",
       "}\n",
       "#T_fb327_row1_col6 {\n",
       "  background-color: #455cce;\n",
       "  color: #f1f1f1;\n",
       "}\n",
       "#T_fb327_row1_col7, #T_fb327_row2_col3, #T_fb327_row2_col4, #T_fb327_row2_col5, #T_fb327_row2_col6, #T_fb327_row2_col8, #T_fb327_row5_col0, #T_fb327_row5_col2, #T_fb327_row8_col1 {\n",
       "  background-color: #3b4cc0;\n",
       "  color: #f1f1f1;\n",
       "}\n",
       "#T_fb327_row1_col8 {\n",
       "  background-color: #96b7ff;\n",
       "  color: #000000;\n",
       "}\n",
       "#T_fb327_row2_col0, #T_fb327_row6_col0, #T_fb327_row8_col7 {\n",
       "  background-color: #5977e3;\n",
       "  color: #f1f1f1;\n",
       "}\n",
       "#T_fb327_row2_col1 {\n",
       "  background-color: #799cf8;\n",
       "  color: #f1f1f1;\n",
       "}\n",
       "#T_fb327_row2_col7 {\n",
       "  background-color: #4c66d6;\n",
       "  color: #f1f1f1;\n",
       "}\n",
       "#T_fb327_row3_col0 {\n",
       "  background-color: #4961d2;\n",
       "  color: #f1f1f1;\n",
       "}\n",
       "#T_fb327_row3_col1 {\n",
       "  background-color: #81a4fb;\n",
       "  color: #f1f1f1;\n",
       "}\n",
       "#T_fb327_row3_col2 {\n",
       "  background-color: #5d7ce6;\n",
       "  color: #f1f1f1;\n",
       "}\n",
       "#T_fb327_row3_col4 {\n",
       "  background-color: #f6bda2;\n",
       "  color: #000000;\n",
       "}\n",
       "#T_fb327_row3_col5 {\n",
       "  background-color: #f7af91;\n",
       "  color: #000000;\n",
       "}\n",
       "#T_fb327_row3_col6, #T_fb327_row3_col7, #T_fb327_row4_col6, #T_fb327_row4_col7 {\n",
       "  background-color: #5572df;\n",
       "  color: #f1f1f1;\n",
       "}\n",
       "#T_fb327_row3_col8 {\n",
       "  background-color: #f59c7d;\n",
       "  color: #000000;\n",
       "}\n",
       "#T_fb327_row4_col0, #T_fb327_row8_col2 {\n",
       "  background-color: #506bda;\n",
       "  color: #f1f1f1;\n",
       "}\n",
       "#T_fb327_row4_col1 {\n",
       "  background-color: #82a6fb;\n",
       "  color: #f1f1f1;\n",
       "}\n",
       "#T_fb327_row4_col2 {\n",
       "  background-color: #5f7fe8;\n",
       "  color: #f1f1f1;\n",
       "}\n",
       "#T_fb327_row4_col3, #T_fb327_row5_col3 {\n",
       "  background-color: #f7bca1;\n",
       "  color: #000000;\n",
       "}\n",
       "#T_fb327_row4_col5 {\n",
       "  background-color: #f7b599;\n",
       "  color: #000000;\n",
       "}\n",
       "#T_fb327_row4_col8 {\n",
       "  background-color: #f6a283;\n",
       "  color: #000000;\n",
       "}\n",
       "#T_fb327_row5_col1 {\n",
       "  background-color: #6485ec;\n",
       "  color: #f1f1f1;\n",
       "}\n",
       "#T_fb327_row5_col4 {\n",
       "  background-color: #f5c2aa;\n",
       "  color: #000000;\n",
       "}\n",
       "#T_fb327_row5_col6 {\n",
       "  background-color: #5470de;\n",
       "  color: #f1f1f1;\n",
       "}\n",
       "#T_fb327_row5_col7 {\n",
       "  background-color: #4e68d8;\n",
       "  color: #f1f1f1;\n",
       "}\n",
       "#T_fb327_row5_col8, #T_fb327_row8_col4 {\n",
       "  background-color: #f7a688;\n",
       "  color: #000000;\n",
       "}\n",
       "#T_fb327_row6_col1 {\n",
       "  background-color: #6f92f3;\n",
       "  color: #f1f1f1;\n",
       "}\n",
       "#T_fb327_row6_col4 {\n",
       "  background-color: #c0d4f5;\n",
       "  color: #000000;\n",
       "}\n",
       "#T_fb327_row6_col5 {\n",
       "  background-color: #d5dbe5;\n",
       "  color: #000000;\n",
       "}\n",
       "#T_fb327_row6_col7 {\n",
       "  background-color: #f29274;\n",
       "  color: #f1f1f1;\n",
       "}\n",
       "#T_fb327_row6_col8, #T_fb327_row7_col8 {\n",
       "  background-color: #cad8ef;\n",
       "  color: #000000;\n",
       "}\n",
       "#T_fb327_row7_col2 {\n",
       "  background-color: #cedaeb;\n",
       "  color: #000000;\n",
       "}\n",
       "#T_fb327_row7_col3 {\n",
       "  background-color: #bfd3f6;\n",
       "  color: #000000;\n",
       "}\n",
       "#T_fb327_row7_col5 {\n",
       "  background-color: #cfdaea;\n",
       "  color: #000000;\n",
       "}\n",
       "#T_fb327_row7_col6 {\n",
       "  background-color: #f39475;\n",
       "  color: #000000;\n",
       "}\n",
       "#T_fb327_row8_col3 {\n",
       "  background-color: #f5a081;\n",
       "  color: #000000;\n",
       "}\n",
       "#T_fb327_row8_col5 {\n",
       "  background-color: #f59f80;\n",
       "  color: #000000;\n",
       "}\n",
       "#T_fb327_row8_col6 {\n",
       "  background-color: #5673e0;\n",
       "  color: #f1f1f1;\n",
       "}\n",
       "</style>\n",
       "<table id=\"T_fb327\">\n",
       "  <thead>\n",
       "    <tr>\n",
       "      <th class=\"blank level0\" >&nbsp;</th>\n",
       "      <th id=\"T_fb327_level0_col0\" class=\"col_heading level0 col0\" >Transaction date</th>\n",
       "      <th id=\"T_fb327_level0_col1\" class=\"col_heading level0 col1\" >House Age</th>\n",
       "      <th id=\"T_fb327_level0_col2\" class=\"col_heading level0 col2\" >Distance from nearest Metro station (km)</th>\n",
       "      <th id=\"T_fb327_level0_col3\" class=\"col_heading level0 col3\" >Number of convenience stores</th>\n",
       "      <th id=\"T_fb327_level0_col4\" class=\"col_heading level0 col4\" >latitude</th>\n",
       "      <th id=\"T_fb327_level0_col5\" class=\"col_heading level0 col5\" >longitude</th>\n",
       "      <th id=\"T_fb327_level0_col6\" class=\"col_heading level0 col6\" >Number of bedrooms</th>\n",
       "      <th id=\"T_fb327_level0_col7\" class=\"col_heading level0 col7\" >House size (sqft)</th>\n",
       "      <th id=\"T_fb327_level0_col8\" class=\"col_heading level0 col8\" >House price of unit area</th>\n",
       "    </tr>\n",
       "  </thead>\n",
       "  <tbody>\n",
       "    <tr>\n",
       "      <th id=\"T_fb327_level0_row0\" class=\"row_heading level0 row0\" >Transaction date</th>\n",
       "      <td id=\"T_fb327_row0_col0\" class=\"data row0 col0\" >1.00</td>\n",
       "      <td id=\"T_fb327_row0_col1\" class=\"data row0 col1\" >0.02</td>\n",
       "      <td id=\"T_fb327_row0_col2\" class=\"data row0 col2\" >0.06</td>\n",
       "      <td id=\"T_fb327_row0_col3\" class=\"data row0 col3\" >0.01</td>\n",
       "      <td id=\"T_fb327_row0_col4\" class=\"data row0 col4\" >0.04</td>\n",
       "      <td id=\"T_fb327_row0_col5\" class=\"data row0 col5\" >-0.04</td>\n",
       "      <td id=\"T_fb327_row0_col6\" class=\"data row0 col6\" >0.06</td>\n",
       "      <td id=\"T_fb327_row0_col7\" class=\"data row0 col7\" >0.07</td>\n",
       "      <td id=\"T_fb327_row0_col8\" class=\"data row0 col8\" >0.09</td>\n",
       "    </tr>\n",
       "    <tr>\n",
       "      <th id=\"T_fb327_level0_row1\" class=\"row_heading level0 row1\" >House Age</th>\n",
       "      <td id=\"T_fb327_row1_col0\" class=\"data row1 col0\" >0.02</td>\n",
       "      <td id=\"T_fb327_row1_col1\" class=\"data row1 col1\" >1.00</td>\n",
       "      <td id=\"T_fb327_row1_col2\" class=\"data row1 col2\" >0.03</td>\n",
       "      <td id=\"T_fb327_row1_col3\" class=\"data row1 col3\" >0.05</td>\n",
       "      <td id=\"T_fb327_row1_col4\" class=\"data row1 col4\" >0.05</td>\n",
       "      <td id=\"T_fb327_row1_col5\" class=\"data row1 col5\" >-0.05</td>\n",
       "      <td id=\"T_fb327_row1_col6\" class=\"data row1 col6\" >-0.01</td>\n",
       "      <td id=\"T_fb327_row1_col7\" class=\"data row1 col7\" >-0.06</td>\n",
       "      <td id=\"T_fb327_row1_col8\" class=\"data row1 col8\" >-0.21</td>\n",
       "    </tr>\n",
       "    <tr>\n",
       "      <th id=\"T_fb327_level0_row2\" class=\"row_heading level0 row2\" >Distance from nearest Metro station (km)</th>\n",
       "      <td id=\"T_fb327_row2_col0\" class=\"data row2 col0\" >0.06</td>\n",
       "      <td id=\"T_fb327_row2_col1\" class=\"data row2 col1\" >0.03</td>\n",
       "      <td id=\"T_fb327_row2_col2\" class=\"data row2 col2\" >1.00</td>\n",
       "      <td id=\"T_fb327_row2_col3\" class=\"data row2 col3\" >-0.60</td>\n",
       "      <td id=\"T_fb327_row2_col4\" class=\"data row2 col4\" >-0.59</td>\n",
       "      <td id=\"T_fb327_row2_col5\" class=\"data row2 col5\" >-0.81</td>\n",
       "      <td id=\"T_fb327_row2_col6\" class=\"data row2 col6\" >-0.05</td>\n",
       "      <td id=\"T_fb327_row2_col7\" class=\"data row2 col7\" >0.00</td>\n",
       "      <td id=\"T_fb327_row2_col8\" class=\"data row2 col8\" >-0.67</td>\n",
       "    </tr>\n",
       "    <tr>\n",
       "      <th id=\"T_fb327_level0_row3\" class=\"row_heading level0 row3\" >Number of convenience stores</th>\n",
       "      <td id=\"T_fb327_row3_col0\" class=\"data row3 col0\" >0.01</td>\n",
       "      <td id=\"T_fb327_row3_col1\" class=\"data row3 col1\" >0.05</td>\n",
       "      <td id=\"T_fb327_row3_col2\" class=\"data row3 col2\" >-0.60</td>\n",
       "      <td id=\"T_fb327_row3_col3\" class=\"data row3 col3\" >1.00</td>\n",
       "      <td id=\"T_fb327_row3_col4\" class=\"data row3 col4\" >0.44</td>\n",
       "      <td id=\"T_fb327_row3_col5\" class=\"data row3 col5\" >0.45</td>\n",
       "      <td id=\"T_fb327_row3_col6\" class=\"data row3 col6\" >0.04</td>\n",
       "      <td id=\"T_fb327_row3_col7\" class=\"data row3 col7\" >0.03</td>\n",
       "      <td id=\"T_fb327_row3_col8\" class=\"data row3 col8\" >0.57</td>\n",
       "    </tr>\n",
       "    <tr>\n",
       "      <th id=\"T_fb327_level0_row4\" class=\"row_heading level0 row4\" >latitude</th>\n",
       "      <td id=\"T_fb327_row4_col0\" class=\"data row4 col0\" >0.04</td>\n",
       "      <td id=\"T_fb327_row4_col1\" class=\"data row4 col1\" >0.05</td>\n",
       "      <td id=\"T_fb327_row4_col2\" class=\"data row4 col2\" >-0.59</td>\n",
       "      <td id=\"T_fb327_row4_col3\" class=\"data row4 col3\" >0.44</td>\n",
       "      <td id=\"T_fb327_row4_col4\" class=\"data row4 col4\" >1.00</td>\n",
       "      <td id=\"T_fb327_row4_col5\" class=\"data row4 col5\" >0.41</td>\n",
       "      <td id=\"T_fb327_row4_col6\" class=\"data row4 col6\" >0.04</td>\n",
       "      <td id=\"T_fb327_row4_col7\" class=\"data row4 col7\" >0.03</td>\n",
       "      <td id=\"T_fb327_row4_col8\" class=\"data row4 col8\" >0.55</td>\n",
       "    </tr>\n",
       "    <tr>\n",
       "      <th id=\"T_fb327_level0_row5\" class=\"row_heading level0 row5\" >longitude</th>\n",
       "      <td id=\"T_fb327_row5_col0\" class=\"data row5 col0\" >-0.04</td>\n",
       "      <td id=\"T_fb327_row5_col1\" class=\"data row5 col1\" >-0.05</td>\n",
       "      <td id=\"T_fb327_row5_col2\" class=\"data row5 col2\" >-0.81</td>\n",
       "      <td id=\"T_fb327_row5_col3\" class=\"data row5 col3\" >0.45</td>\n",
       "      <td id=\"T_fb327_row5_col4\" class=\"data row5 col4\" >0.41</td>\n",
       "      <td id=\"T_fb327_row5_col5\" class=\"data row5 col5\" >1.00</td>\n",
       "      <td id=\"T_fb327_row5_col6\" class=\"data row5 col6\" >0.04</td>\n",
       "      <td id=\"T_fb327_row5_col7\" class=\"data row5 col7\" >0.01</td>\n",
       "      <td id=\"T_fb327_row5_col8\" class=\"data row5 col8\" >0.52</td>\n",
       "    </tr>\n",
       "    <tr>\n",
       "      <th id=\"T_fb327_level0_row6\" class=\"row_heading level0 row6\" >Number of bedrooms</th>\n",
       "      <td id=\"T_fb327_row6_col0\" class=\"data row6 col0\" >0.06</td>\n",
       "      <td id=\"T_fb327_row6_col1\" class=\"data row6 col1\" >-0.01</td>\n",
       "      <td id=\"T_fb327_row6_col2\" class=\"data row6 col2\" >-0.05</td>\n",
       "      <td id=\"T_fb327_row6_col3\" class=\"data row6 col3\" >0.04</td>\n",
       "      <td id=\"T_fb327_row6_col4\" class=\"data row6 col4\" >0.04</td>\n",
       "      <td id=\"T_fb327_row6_col5\" class=\"data row6 col5\" >0.04</td>\n",
       "      <td id=\"T_fb327_row6_col6\" class=\"data row6 col6\" >1.00</td>\n",
       "      <td id=\"T_fb327_row6_col7\" class=\"data row6 col7\" >0.75</td>\n",
       "      <td id=\"T_fb327_row6_col8\" class=\"data row6 col8\" >0.05</td>\n",
       "    </tr>\n",
       "    <tr>\n",
       "      <th id=\"T_fb327_level0_row7\" class=\"row_heading level0 row7\" >House size (sqft)</th>\n",
       "      <td id=\"T_fb327_row7_col0\" class=\"data row7 col0\" >0.07</td>\n",
       "      <td id=\"T_fb327_row7_col1\" class=\"data row7 col1\" >-0.06</td>\n",
       "      <td id=\"T_fb327_row7_col2\" class=\"data row7 col2\" >0.00</td>\n",
       "      <td id=\"T_fb327_row7_col3\" class=\"data row7 col3\" >0.03</td>\n",
       "      <td id=\"T_fb327_row7_col4\" class=\"data row7 col4\" >0.03</td>\n",
       "      <td id=\"T_fb327_row7_col5\" class=\"data row7 col5\" >0.01</td>\n",
       "      <td id=\"T_fb327_row7_col6\" class=\"data row7 col6\" >0.75</td>\n",
       "      <td id=\"T_fb327_row7_col7\" class=\"data row7 col7\" >1.00</td>\n",
       "      <td id=\"T_fb327_row7_col8\" class=\"data row7 col8\" >0.05</td>\n",
       "    </tr>\n",
       "    <tr>\n",
       "      <th id=\"T_fb327_level0_row8\" class=\"row_heading level0 row8\" >House price of unit area</th>\n",
       "      <td id=\"T_fb327_row8_col0\" class=\"data row8 col0\" >0.09</td>\n",
       "      <td id=\"T_fb327_row8_col1\" class=\"data row8 col1\" >-0.21</td>\n",
       "      <td id=\"T_fb327_row8_col2\" class=\"data row8 col2\" >-0.67</td>\n",
       "      <td id=\"T_fb327_row8_col3\" class=\"data row8 col3\" >0.57</td>\n",
       "      <td id=\"T_fb327_row8_col4\" class=\"data row8 col4\" >0.55</td>\n",
       "      <td id=\"T_fb327_row8_col5\" class=\"data row8 col5\" >0.52</td>\n",
       "      <td id=\"T_fb327_row8_col6\" class=\"data row8 col6\" >0.05</td>\n",
       "      <td id=\"T_fb327_row8_col7\" class=\"data row8 col7\" >0.05</td>\n",
       "      <td id=\"T_fb327_row8_col8\" class=\"data row8 col8\" >1.00</td>\n",
       "    </tr>\n",
       "  </tbody>\n",
       "</table>\n"
      ],
      "text/plain": [
       "<pandas.io.formats.style.Styler at 0x1e5239c0430>"
      ]
     },
     "execution_count": 13,
     "metadata": {},
     "output_type": "execute_result"
    }
   ],
   "source": [
    "import numpy as np\n",
    "rs = np.random.RandomState(0)\n",
    "df = pd.DataFrame(rs.rand(10,10))\n",
    "corr = data.corr()\n",
    "corr.style.background_gradient(cmap='coolwarm').set_precision(2)\n"
   ]
  },
  {
   "cell_type": "code",
   "execution_count": 14,
   "id": "39adcc3c",
   "metadata": {},
   "outputs": [],
   "source": [
    "from sklearn.utils import shuffle\n",
    "from sklearn.model_selection import train_test_split"
   ]
  },
  {
   "cell_type": "code",
   "execution_count": 15,
   "id": "1617f0d4",
   "metadata": {},
   "outputs": [],
   "source": [
    "data = shuffle(data,random_state=23)"
   ]
  },
  {
   "cell_type": "code",
   "execution_count": 16,
   "id": "fc0ba044",
   "metadata": {},
   "outputs": [
    {
     "data": {
      "text/plain": [
       "Index(['Transaction date', 'House Age',\n",
       "       'Distance from nearest Metro station (km)',\n",
       "       'Number of convenience stores', 'latitude', 'longitude',\n",
       "       'Number of bedrooms', 'House size (sqft)', 'House price of unit area'],\n",
       "      dtype='object')"
      ]
     },
     "execution_count": 16,
     "metadata": {},
     "output_type": "execute_result"
    }
   ],
   "source": [
    "data.columns"
   ]
  },
  {
   "cell_type": "code",
   "execution_count": 17,
   "id": "9ccf7c83",
   "metadata": {},
   "outputs": [],
   "source": [
    "X = data[['House Age','Distance from nearest Metro station (km)',\n",
    "          'Number of convenience stores','Number of bedrooms', 'House size (sqft)']]\n",
    "y = data['House price of unit area']"
   ]
  },
  {
   "cell_type": "code",
   "execution_count": 18,
   "id": "bf46ac75",
   "metadata": {},
   "outputs": [
    {
     "data": {
      "text/plain": [
       "((414, 5), (414,))"
      ]
     },
     "execution_count": 18,
     "metadata": {},
     "output_type": "execute_result"
    }
   ],
   "source": [
    "X.shape,y.shape"
   ]
  },
  {
   "cell_type": "code",
   "execution_count": 19,
   "id": "064e2093",
   "metadata": {},
   "outputs": [],
   "source": [
    "X_train, X_test, y_train, y_test = train_test_split(X,y, train_size=0.8, random_state=23)"
   ]
  },
  {
   "cell_type": "code",
   "execution_count": 20,
   "id": "c05e11a2",
   "metadata": {},
   "outputs": [
    {
     "data": {
      "text/plain": [
       "((331, 5), (83, 5), (331,), (83,))"
      ]
     },
     "execution_count": 20,
     "metadata": {},
     "output_type": "execute_result"
    }
   ],
   "source": [
    "X_train.shape, X_test.shape, y_train.shape, y_test.shape"
   ]
  },
  {
   "cell_type": "markdown",
   "id": "fd72404d",
   "metadata": {},
   "source": [
    "# K Nearest Neighbor"
   ]
  },
  {
   "cell_type": "code",
   "execution_count": 21,
   "id": "e00cc24d",
   "metadata": {},
   "outputs": [],
   "source": [
    "from sklearn.neighbors import KNeighborsRegressor\n",
    "knnR = KNeighborsRegressor(n_neighbors=5)\n",
    "\n",
    "from sklearn.metrics import mean_absolute_error as mae"
   ]
  },
  {
   "cell_type": "code",
   "execution_count": 22,
   "id": "d3442f76",
   "metadata": {},
   "outputs": [
    {
     "name": "stdout",
     "output_type": "stream",
     "text": [
      "Test mean absolute error     6.251566265060243\n"
     ]
    }
   ],
   "source": [
    "knnR.fit(X_train,y_train)\n",
    "\n",
    "test_predict = knnR.predict(X_test)\n",
    "\n",
    "error = mae(test_predict,y_test)\n",
    "\n",
    "print('Test mean absolute error    ',error)"
   ]
  },
  {
   "cell_type": "code",
   "execution_count": 23,
   "id": "275209c6",
   "metadata": {},
   "outputs": [],
   "source": [
    "def elbow(K):\n",
    "    test_error = []\n",
    "    \n",
    "    for i in K:\n",
    "        knn = KNeighborsRegressor(n_neighbors=i)\n",
    "        knn.fit(X_train, y_train)\n",
    "        tmp = knn.predict(X_test)\n",
    "        tmp = mae(tmp, y_test)\n",
    "        test_error.append(tmp)\n",
    "        \n",
    "    return test_error"
   ]
  },
  {
   "cell_type": "raw",
   "id": "d72f2809",
   "metadata": {},
   "source": [
    "Above code helps us to find the correct value of K neighbor at which the error is minimum."
   ]
  },
  {
   "cell_type": "code",
   "execution_count": 24,
   "id": "1d5f4c61",
   "metadata": {},
   "outputs": [],
   "source": [
    "k = range(5,100,5)\n",
    "test = elbow(k)"
   ]
  },
  {
   "cell_type": "code",
   "execution_count": 25,
   "id": "08c111df",
   "metadata": {},
   "outputs": [
    {
     "data": {
      "text/plain": [
       "Text(0.5, 1.0, 'Elbow curve for test')"
      ]
     },
     "execution_count": 25,
     "metadata": {},
     "output_type": "execute_result"
    },
    {
     "data": {
      "image/png": "[encoded data removed]",
      "text/plain": [
       "<Figure size 432x288 with 1 Axes>"
      ]
     },
     "metadata": {
      "needs_background": "light"
     },
     "output_type": "display_data"
    }
   ],
   "source": [
    "plt.plot(k,test)\n",
    "plt.xlabel('K Neighbors')\n",
    "plt.ylabel('Test Error')\n",
    "plt.title('Elbow curve for test')"
   ]
  },
  {
   "cell_type": "code",
   "execution_count": 26,
   "id": "d2ff81f5",
   "metadata": {},
   "outputs": [
    {
     "name": "stdout",
     "output_type": "stream",
     "text": [
      "Test mean absolute error     5.30896921017403\n"
     ]
    }
   ],
   "source": [
    "knnR = KNeighborsRegressor(n_neighbors=9)\n",
    "\n",
    "knnR.fit(X_train, y_train)\n",
    "\n",
    "test_predict = knnR.predict(X_test)\n",
    "\n",
    "error = mae(test_predict, y_test)\n",
    "\n",
    "print('Test mean absolute error    ',error)"
   ]
  },
  {
   "cell_type": "markdown",
   "id": "64075e27",
   "metadata": {},
   "source": [
    "# Linear Regression"
   ]
  },
  {
   "cell_type": "code",
   "execution_count": 27,
   "id": "63bd7167",
   "metadata": {},
   "outputs": [],
   "source": [
    "from sklearn.linear_model import LinearRegression\n",
    "\n",
    "lr = LinearRegression()"
   ]
  },
  {
   "cell_type": "code",
   "execution_count": 28,
   "id": "fa052c3b",
   "metadata": {},
   "outputs": [
    {
     "name": "stdout",
     "output_type": "stream",
     "text": [
      "Test absolute mean error     6.364215939840862\n"
     ]
    }
   ],
   "source": [
    "lr.fit(X_train, y_train)\n",
    "\n",
    "test_predict = lr.predict(X_test)\n",
    "\n",
    "error = mae(test_predict, y_test)\n",
    "\n",
    "print('Test absolute mean error    ',error)"
   ]
  },
  {
   "cell_type": "code",
   "execution_count": null,
   "id": "30cb10ca",
   "metadata": {},
   "outputs": [],
   "source": []
  },
  {
   "cell_type": "raw",
   "id": "18b3f660",
   "metadata": {},
   "source": [
    "So, the above KNN model produces the less error with neighbor value 9."
   ]
  }
 ],
 "metadata": {
  "kernelspec": {
   "display_name": "Python 3 (ipykernel)",
   "language": "python",
   "name": "python3"
  },
  "language_info": {
   "codemirror_mode": {
    "name": "ipython",
    "version": 3
   },
   "file_extension": ".py",
   "mimetype": "text/x-python",
   "name": "python",
   "nbconvert_exporter": "python",
   "pygments_lexer": "ipython3",
   "version": "3.9.12"
  }
 },
 "nbformat": 4,
 "nbformat_minor": 5
}
